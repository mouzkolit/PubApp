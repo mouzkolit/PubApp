{
 "cells": [
  {
   "cell_type": "code",
   "execution_count": 15,
   "metadata": {},
   "outputs": [],
   "source": [
    "# Here put an image for the course data"
   ]
  },
  {
   "cell_type": "markdown",
   "metadata": {},
   "source": [
    "# Data Course Neuroscience: A beginners Guide\n",
    "\n",
    "## Table of Content\n",
    "\n",
    "- **Learn the fundamentals of python and data science**\n",
    "    - Anaconda/Miniconda setup\n",
    "    - What is Python\n",
    "    - Comparision of higher level programming languages with lower level\n",
    "    - Strength and Weaknesses of the Python Programming Language\n",
    "   \n",
    "- **Learn data structures and handling in python**\n",
    "    - Data Types \n",
    "    - Operators\n",
    "    - Imports\n",
    "    - Data Structures such e.g. Tuples, Sets, Lists, Arrays and Dictionaries\n",
    "    - Problem of Referencing\n",
    "    - Os and file reading\n",
    "    - Parse a text file and retrieve output\n",
    "    \n",
    "- **Learn functional programming and OOP basics**\n",
    "    - How to write a function\n",
    "        - Parameter, Arguments and Returns\n",
    "        - What are side-effects?\n",
    "    - How to use args/kwargs\n",
    "    - Recursion\n",
    "    - Lets write hangman\n",
    "    \n",
    "- **Learn pandas and visualizations for data analysis and exploratory data analysis (EDA)**\n",
    "    - Fundamentals of pandas\n",
    "        - DataFrame reading and writing\n",
    "        - Exploratory Data Analysis\n",
    "            - DataFrame info, description, types\n",
    "            - Slicing, Aggregation function, joins/merges and concatentation\n",
    "            - Training with DataFrames\n",
    "    - Fundamentals of Matplotlib and Seaborn\n",
    "        - Matplotlib Figure and subplots\n",
    "        - Barplot, Scatterplot, \n"
   ]
  },
  {
   "cell_type": "markdown",
   "metadata": {},
   "source": [
    "## Python Fundamentals"
   ]
  },
  {
   "cell_type": "markdown",
   "metadata": {},
   "source": [
    "<img src=\"https://encrypted-tbn0.gstatic.com/images?q=tbn:ANd9GcQgsqNQuan9kGaV8S_l5K_twPMUWA5WP3K4qqfR95N6ulNR4YBBc7di0GsQGEGulq8K3LI&usqp=CAU\">"
   ]
  },
  {
   "cell_type": "markdown",
   "metadata": {},
   "source": [
    "### Python Interpreter\n",
    "\n",
    "Python in general is an interpreted language, which in comparision to compiled languages act as and higher level interface.\n",
    "Interpretated languages in comparison to compiled languages interprete the written application line by line. Python is a **Object-oriented language** (OOP) which means that everything in python represents an Object. This will be described in more details later in the course."
   ]
  },
  {
   "cell_type": "code",
   "execution_count": null,
   "metadata": {},
   "outputs": [],
   "source": [
    "#indicates a comment\n",
    "\n",
    "\"\"\" indicates a mulitline comment\n",
    "which is not execute by the interpreter and therefore has no effect on the \n",
    "written code.\n",
    "\n",
    "Important: Comments are crucial for the understanding of the written code and the function of the code\n",
    "So always stay dry and comment your code properly!!!\"\"\""
   ]
  },
  {
   "cell_type": "code",
   "execution_count": 4,
   "metadata": {},
   "outputs": [
    {
     "name": "stdout",
     "output_type": "stream",
     "text": [
      "2\n",
      "3\n",
      "25\n"
     ]
    }
   ],
   "source": [
    "# you can just simply calculate using the python interpreter\n",
    "# print is a function to write into the konsole\n",
    "print(1+1)\n",
    "print(1+2)\n",
    "print(5*5)"
   ]
  },
  {
   "cell_type": "code",
   "execution_count": 10,
   "metadata": {},
   "outputs": [
    {
     "ename": "SyntaxError",
     "evalue": "invalid syntax (<ipython-input-10-221b0f85608c>, line 16)",
     "output_type": "error",
     "traceback": [
      "\u001b[1;36m  File \u001b[1;32m\"<ipython-input-10-221b0f85608c>\"\u001b[1;36m, line \u001b[1;32m16\u001b[0m\n\u001b[1;33m    print(type(+))\u001b[0m\n\u001b[1;37m                ^\u001b[0m\n\u001b[1;31mSyntaxError\u001b[0m\u001b[1;31m:\u001b[0m invalid syntax\n"
     ]
    }
   ],
   "source": [
    "# Type Annotations\n",
    "# Strings are always written in literacies\n",
    "# the type function returns the type\n",
    "print(type(\"This is a String:\"))\n",
    "# Integers\n",
    "print(type(1))\n",
    "#Floats\n",
    "print(type(1.444))\n",
    "#Booleans\n",
    "print(type(True), type(False))\n",
    "#binary types \n",
    "print(type(b\"Hello\"))\n",
    "#complex numbers\n",
    "print(type(1j))"
   ]
  },
  {
   "cell_type": "markdown",
   "metadata": {},
   "source": [
    "## **Operators**\n",
    "\n",
    "Operators are used to perform arithmetics and changes to variables in python. In general we have distinct types of operators\n",
    "such as: Arithmetic Operators, Comparision Operators, Assignment operators, logical operators, membership operators\n",
    "and bitwise operators"
   ]
  },
  {
   "cell_type": "code",
   "execution_count": null,
   "metadata": {},
   "outputs": [],
   "source": []
  }
 ],
 "metadata": {
  "kernelspec": {
   "display_name": "Python 3",
   "language": "python",
   "name": "python3"
  },
  "language_info": {
   "codemirror_mode": {
    "name": "ipython",
    "version": 3
   },
   "file_extension": ".py",
   "mimetype": "text/x-python",
   "name": "python",
   "nbconvert_exporter": "python",
   "pygments_lexer": "ipython3",
   "version": "3.7.3"
  }
 },
 "nbformat": 4,
 "nbformat_minor": 4
}
