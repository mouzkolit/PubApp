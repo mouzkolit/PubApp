{
 "cells": [
  {
   "cell_type": "markdown",
   "metadata": {},
   "source": [
    "# Data Course Neuroscience: A beginners Guide"
   ]
  },
  {
   "cell_type": "markdown",
   "metadata": {
    "slideshow": {
     "slide_type": "slide"
    }
   },
   "source": [
    "## Table of Content\n",
    "\n",
    "-------\n",
    "- **Learn the fundamentals of python and data science**\n",
    "    - Anaconda/Miniconda setup\n",
    "    - What is Python\n",
    "    - Comparision of higher level programming languages with lower level\n",
    "    - Strength and Weaknesses of the Python Programming Language\n",
    "-------   \n",
    "- **Learn data structures and handling in python**\n",
    "    - Data Types \n",
    "    - Operators\n",
    "    - Imports\n",
    "    - Data Structures such e.g. Tuples, Sets, Lists, Arrays and Dictionaries\n",
    "    - Problem of Referencing\n",
    "    - Os and file reading\n",
    "    - Parse a text file and retrieve output\n",
    "-------   \n",
    "- **Learn functional programming and OOP basics**\n",
    "    - How to write a function\n",
    "        - Parameter, Arguments and Returns\n",
    "        - What are side-effects?\n",
    "    - How to use args/kwargs\n",
    "    - Recursion\n",
    "    - Lets write hangman\n",
    "-------   \n",
    "- **Learn pandas and visualizations for data analysis and exploratory data analysis (EDA)**\n",
    "    - Fundamentals of pandas\n",
    "        - DataFrame reading and writing\n",
    "        - Exploratory Data Analysis\n",
    "            - DataFrame info, description, types\n",
    "            - Slicing, Aggregation function, joins/merges and concatentation\n",
    "            - Training with DataFrames\n",
    "    - Fundamentals of Matplotlib and Seaborn\n",
    "        - Matplotlib Figure and subplots\n",
    "        - Barplot, Scatterplot, \n",
    "-------"
   ]
  },
  {
   "cell_type": "markdown",
   "metadata": {
    "slideshow": {
     "slide_type": "slide"
    }
   },
   "source": [
    "## Python Fundamentals"
   ]
  },
  {
   "cell_type": "markdown",
   "metadata": {
    "slideshow": {
     "slide_type": "subslide"
    }
   },
   "source": [
    "<img src=\"https://encrypted-tbn0.gstatic.com/images?q=tbn:ANd9GcQgsqNQuan9kGaV8S_l5K_twPMUWA5WP3K4qqfR95N6ulNR4YBBc7di0GsQGEGulq8K3LI&usqp=CAU\">"
   ]
  },
  {
   "cell_type": "markdown",
   "metadata": {
    "slideshow": {
     "slide_type": "subslide"
    }
   },
   "source": [
    "### Python Interpreter\n",
    "\n",
    "Python in general is an interpreted language, which in comparision to compiled languages act as and higher level interface.\n",
    "Interpretated languages in comparison to compiled languages interprete the written application line by line. Python is a **Object-oriented language** (OOP) which means that everything in python represents an Object. This will be described in more details later in the course."
   ]
  },
  {
   "cell_type": "markdown",
   "metadata": {},
   "source": [
    "\n",
    "<code>#indicates a comment\n",
    "\n",
    "\"\"\" indicates a mulitline comment\n",
    "which is not execute by the interpreter and therefore has no effect on the \n",
    "written code\n",
    "Important: Comments are crucial for the understanding of the written code and the function of the code\n",
    "So always stay dry and comment your code properly!!!\"\"\"</code>\n"
   ]
  },
  {
   "cell_type": "code",
   "execution_count": 4,
   "metadata": {},
   "outputs": [
    {
     "name": "stdout",
     "output_type": "stream",
     "text": [
      "2\n",
      "3\n",
      "25\n"
     ]
    }
   ],
   "source": [
    "# you can just simply calculate using the python interpreter\n",
    "# print is a function to write into the konsole\n",
    "print(1+1)\n",
    "print(1+2)\n",
    "print(5*5)"
   ]
  },
  {
   "cell_type": "code",
   "execution_count": 16,
   "metadata": {},
   "outputs": [
    {
     "name": "stdout",
     "output_type": "stream",
     "text": [
      "<class 'str'>\n",
      "<class 'int'>\n",
      "<class 'float'>\n",
      "<class 'bool'> <class 'bool'>\n",
      "<class 'bytes'>\n",
      "<class 'complex'>\n"
     ]
    }
   ],
   "source": [
    "# Type Annotations\n",
    "# Strings are always written in literacies\n",
    "# the type function returns the type\n",
    "print(type(\"This is a String:\"))\n",
    "# Integers\n",
    "print(type(1))\n",
    "#Floats\n",
    "print(type(1.444))\n",
    "#Booleans\n",
    "print(type(True), type(False))\n",
    "#binary types \n",
    "print(type(b\"Hello\"))\n",
    "#complex numbers\n",
    "print(type(1j))"
   ]
  },
  {
   "cell_type": "markdown",
   "metadata": {},
   "source": [
    "## **Operators**\n",
    "-----\n",
    "Operators are used to perform arithmetics and changes to variables in python. In general we have distinct types of operators\n",
    "such as: Arithmetic Operators, Comparision Operators, Assignment operators, logical operators, membership operators\n",
    "and bitwise operators"
   ]
  },
  {
   "cell_type": "code",
   "execution_count": 22,
   "metadata": {},
   "outputs": [
    {
     "name": "stdout",
     "output_type": "stream",
     "text": [
      "2\n",
      "2\n",
      "0.3333333333333333\n",
      "1\n"
     ]
    }
   ],
   "source": [
    "# Arithemtic Operators\n",
    "print(1+1) # sum\n",
    "print(1*2) # mulitplication\n",
    "print(1/3) # division\n",
    "print(13%3)# modulus"
   ]
  },
  {
   "cell_type": "code",
   "execution_count": 29,
   "metadata": {},
   "outputs": [
    {
     "name": "stdout",
     "output_type": "stream",
     "text": [
      "Enter a number1\n",
      "Yes you made it\n"
     ]
    }
   ],
   "source": [
    "# more operators\n",
    "# special question to solve for you guys\n",
    "# lets go through it line by line!\n",
    "result = int(input(\"Enter a number\")) \n",
    "if result == 13%3:\n",
    "    print(\"Yes you made it\")"
   ]
  },
  {
   "cell_type": "code",
   "execution_count": 31,
   "metadata": {},
   "outputs": [
    {
     "name": "stdout",
     "output_type": "stream",
     "text": [
      "True\n",
      "False\n"
     ]
    }
   ],
   "source": [
    "#membership operators \n",
    "# in or not in \n",
    "print(\"i\" in \"String\")\n",
    "print(\"i\" not in \"String\")"
   ]
  },
  {
   "cell_type": "code",
   "execution_count": 41,
   "metadata": {},
   "outputs": [
    {
     "name": "stdout",
     "output_type": "stream",
     "text": [
      "True\n",
      "False\n",
      "True\n",
      "True\n",
      "False\n"
     ]
    }
   ],
   "source": [
    "#logical operators\n",
    "\"\"\" logical operators: AND (&), OR (|), XOR (^), NOT [~]\"\"\"\n",
    "print(True & True)\n",
    "print(True & False)\n",
    "print(True | False)\n",
    "print(True ^ False)\n",
    "print(True != True)"
   ]
  },
  {
   "cell_type": "code",
   "execution_count": 7,
   "metadata": {},
   "outputs": [
    {
     "name": "stdout",
     "output_type": "stream",
     "text": [
      "True\n",
      "Try again!\n"
     ]
    }
   ],
   "source": [
    "# logical question what is the answer of \n",
    "answer = str(((True | True) and (True & False)))\n",
    "answer_user = str(input())\n",
    "if answer == answer_user:\n",
    "    print(\"Well done!\")\n",
    "else:\n",
    "    print(\"Try again!\")"
   ]
  },
  {
   "cell_type": "code",
   "execution_count": 10,
   "metadata": {},
   "outputs": [
    {
     "name": "stdout",
     "output_type": "stream",
     "text": [
      "hello world\n"
     ]
    }
   ],
   "source": [
    "# Assignemnt Operators \n",
    "# = assigns a variable\n",
    "x = \"hello world\""
   ]
  },
  {
   "cell_type": "markdown",
   "metadata": {},
   "source": [
    "## Data Structures in Base Python\n",
    "\n",
    "In base python we have data structures such as lists, sets, tuples or dictionaries, that are the base components \n",
    "for most algorithm, applications and software.\n",
    "\n",
    "**Basics:**\n",
    "\n",
    "------------\n",
    "**Lists**: are constructed using [value, value, value1...] \n",
    "    - Lists are mutable constructs that can be filled with all datatypes\n",
    "    - Lists are ordered\n",
    "    - e.g. [\"string\", int, float, Bool]\n",
    "**Dictionaries**: are constructed using {\"key\": \"values\"}\n",
    "    - Dictionaries are consisting of key value pairs, which are also mutable \n",
    "    - Advanced: Dictionaries are implemented via hashing \n",
    "**Tuples**: are constructed using (value, value, value...)\n",
    "    - Tuples come in different flavors such as general tuples and named tuples (comparable to dictionaries)\n",
    "    - Tuples are immutable and ordered\n",
    "**Sets**: are constructed using {value, value1, value2...}\n",
    "    - Sets are mutable but duplicates will be removed in sets\n",
    "    - But Sets are unchangable, which implies that the item per se is not changeable but you can add and remove\n",
    "    - Sets are by definition unordered\n",
    "------------"
   ]
  },
  {
   "cell_type": "code",
   "execution_count": 19,
   "metadata": {},
   "outputs": [
    {
     "name": "stdout",
     "output_type": "stream",
     "text": [
      "[1, 1, 2, 3, 4, 5]\n",
      "{1, 2, 3, 4, 5}\n",
      "(1, 1, 2, 3, 4, 5)\n",
      "{'numbers': [1, 2, 3, 4, 5]}\n",
      "This is the list of variables: [[1, 1, 2, 3, 4, 5], {1, 2, 3, 4, 5}, (1, 1, 2, 3, 4, 5), {'numbers': [1, 2, 3, 4, 5]}]\n"
     ]
    }
   ],
   "source": [
    "# reference a new list\n",
    "new_list = [1,1,2,3,4,5]\n",
    "# reference a new set\n",
    "new_set = {1,1,2,3,4,5}\n",
    "# reference a new tuple\n",
    "new_tuple = (1,1,2,3,4,5)\n",
    "# reference a new dictionary \n",
    "new_dictionary = {\"numbers\": [1,2,3,4,5]}\n",
    "\n",
    "# you can put variables into each data structure:\n",
    "data_structure_list = [new_list, new_set, new_tuple, new_dictionary]\n",
    "print(f\"This is the list of variables: {data_structure_list}\")"
   ]
  },
  {
   "cell_type": "code",
   "execution_count": 21,
   "metadata": {},
   "outputs": [
    {
     "name": "stdout",
     "output_type": "stream",
     "text": [
      "[1, 1, 2, 3, 4, 5]\n",
      "{1, 2, 3, 4, 5}\n",
      "(1, 1, 2, 3, 4, 5)\n",
      "{'numbers': [1, 2, 3, 4, 5]}\n"
     ]
    }
   ],
   "source": [
    "print(new_list)\n",
    "print(new_set)\n",
    "print(new_tuple)\n",
    "print(new_dictionary)"
   ]
  },
  {
   "cell_type": "markdown",
   "metadata": {},
   "source": [
    "**Special Questions** about Data Structures:\n",
    "\n",
    "-------------\n",
    "    - Why different data structures?\n",
    "    - Differences between Set and List?\n",
    "    - What are dictionaries good for?\n",
    "    - Why are tuples important for programmers?\n",
    "    - How to use Data Structures?"
   ]
  },
  {
   "cell_type": "code",
   "execution_count": null,
   "metadata": {},
   "outputs": [],
   "source": []
  },
  {
   "cell_type": "markdown",
   "metadata": {},
   "source": [
    "## Functions\n",
    "\n",
    "\n",
    "---------------\n",
    "Functions are essential parts in python that represent a block of code which runs when it is called.\n",
    "Function can contain parameters and can be called by giving arguments and function can also return values.\n",
    "<br>\n",
    "The main building block of function are the following:\n",
    "<br>\n",
    "    - Functions are initialized with the keyword *def*\n",
    "    - Followed by a name of the function e.g. our_function() and brackets\n",
    "    - and finally indicated by **:**\n",
    "    - e.g\n",
    "    \n",
    "------\n",
    "<code> def our_function():\n",
    "       print(\"hello\")\n",
    "</code>\n",
    "\n",
    "<br>\n",
    "<br>\n",
    "Naming convention of Function is described in the PEP8 guidelines of Python. The usual convention uses an\n",
    "underscore to divide lowercase words such as **our_function()**\n",
    "\n",
    "<a href=\"https://peps.python.org/pep-0008/\"> PEP8 Guidelines </a>\n",
    "\n",
    "\n",
    "-----------------------------------------\n",
    "Function can take parameters and also can return values which is indicated by the **return** function.\n",
    "\n",
    "<code> def our_function(word):\n",
    "    return word\n",
    "</code>\n",
    "\n",
    "\n",
    "### Question: Write a function that takes a list as an input and returns the first number of the list \n",
    "Hint: <a href=\"https://reactgo.com/get-first-element-in-list-python/\">Helper Link!</a>"
   ]
  },
  {
   "cell_type": "code",
   "execution_count": null,
   "metadata": {},
   "outputs": [],
   "source": []
  }
 ],
 "metadata": {
  "kernelspec": {
   "display_name": "Python 3",
   "language": "python",
   "name": "python3"
  }
 },
 "nbformat": 4,
 "nbformat_minor": 4
}
